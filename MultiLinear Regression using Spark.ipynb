{
 "cells": [
  {
   "cell_type": "markdown",
   "metadata": {
    "application/vnd.databricks.v1+cell": {
     "cellMetadata": {},
     "inputWidgets": {},
     "nuid": "6d54bb04-cad7-44ad-bb71-c2287f06ed77",
     "showTitle": false,
     "title": ""
    }
   },
   "source": [
    "Multi-Linear Rwgression using pyspark"
   ]
  },
  {
   "cell_type": "code",
   "execution_count": 0,
   "metadata": {
    "application/vnd.databricks.v1+cell": {
     "cellMetadata": {
      "byteLimit": 2048000,
      "rowLimit": 10000
     },
     "inputWidgets": {},
     "nuid": "01e61ce9-0749-49a2-be22-8fd3e233d47f",
     "showTitle": false,
     "title": ""
    }
   },
   "outputs": [
    {
     "output_type": "stream",
     "name": "stdout",
     "output_type": "stream",
     "text": [
      "+---------+--------------+---------------+----------+---------+\n|R&D Spend|Administration|Marketing Spend|     State|   Profit|\n+---------+--------------+---------------+----------+---------+\n| 165349.2|      136897.8|       471784.1|  New York|192261.83|\n| 162597.7|     151377.59|      443898.53|California|191792.06|\n|153441.51|     101145.55|      407934.54|   Florida|191050.39|\n|144372.41|     118671.85|      383199.62|  New York|182901.99|\n|142107.34|      91391.77|      366168.42|   Florida|166187.94|\n| 131876.9|      99814.71|      362861.36|  New York|156991.12|\n|134615.46|     147198.87|      127716.82|California|156122.51|\n|130298.13|     145530.06|      323876.68|   Florida| 155752.6|\n|120542.52|     148718.95|      311613.29|  New York|152211.77|\n|123334.88|     108679.17|      304981.62|California|149759.96|\n|101913.08|     110594.11|      229160.95|   Florida|146121.95|\n|100671.96|      91790.61|      249744.55|California| 144259.4|\n| 93863.75|     127320.38|      249839.44|   Florida|141585.52|\n| 91992.39|     135495.07|      252664.93|California|134307.35|\n|119943.24|     156547.42|      256512.92|   Florida|132602.65|\n|114523.61|     122616.84|      261776.23|  New York|129917.04|\n| 78013.11|     121597.55|      264346.06|California|126992.93|\n| 94657.16|     145077.58|      282574.31|  New York|125370.37|\n| 91749.16|     114175.79|      294919.57|   Florida| 124266.9|\n|  86419.7|     153514.11|              0|  New York|122776.86|\n+---------+--------------+---------------+----------+---------+\nonly showing top 20 rows\n\n"
     ]
    }
   ],
   "source": [
    "df = spark.read.format(\"csv\").option(\"header\", \"true\").load(\"dbfs:/FileStore/tables/50_Startups-9.csv\")\n",
    "df.show()"
   ]
  },
  {
   "cell_type": "code",
   "execution_count": 0,
   "metadata": {
    "application/vnd.databricks.v1+cell": {
     "cellMetadata": {
      "byteLimit": 2048000,
      "rowLimit": 10000
     },
     "inputWidgets": {},
     "nuid": "483bf23b-6fb9-4aa0-8a90-7ffca5593b75",
     "showTitle": false,
     "title": ""
    }
   },
   "outputs": [
    {
     "output_type": "stream",
     "name": "stdout",
     "output_type": "stream",
     "text": [
      "root\n |-- R&D Spend: string (nullable = true)\n |-- Administration: string (nullable = true)\n |-- Marketing Spend: string (nullable = true)\n |-- State: string (nullable = true)\n |-- Profit: string (nullable = true)\n\n"
     ]
    }
   ],
   "source": [
    "df.printSchema()"
   ]
  },
  {
   "cell_type": "code",
   "execution_count": 0,
   "metadata": {
    "application/vnd.databricks.v1+cell": {
     "cellMetadata": {
      "byteLimit": 2048000,
      "rowLimit": 10000
     },
     "inputWidgets": {},
     "nuid": "4304de15-21ae-414f-b9e6-f71dd88ad5cc",
     "showTitle": false,
     "title": ""
    }
   },
   "outputs": [
    {
     "output_type": "stream",
     "name": "stdout",
     "output_type": "stream",
     "text": [
      "Out[39]: DataFrame[summary: string, R&D Spend: string, Administration: string, Marketing Spend: string, State: string, Profit: string]"
     ]
    }
   ],
   "source": [
    "df.describe()"
   ]
  },
  {
   "cell_type": "code",
   "execution_count": 0,
   "metadata": {
    "application/vnd.databricks.v1+cell": {
     "cellMetadata": {
      "byteLimit": 2048000,
      "rowLimit": 10000
     },
     "inputWidgets": {},
     "nuid": "ea7a2ef6-0ab2-49dc-a339-86d54f860b11",
     "showTitle": false,
     "title": ""
    }
   },
   "outputs": [
    {
     "output_type": "stream",
     "name": "stdout",
     "output_type": "stream",
     "text": [
      "Out[40]: [('R&D Spend', 'string'),\n ('Administration', 'string'),\n ('Marketing Spend', 'string'),\n ('State', 'string'),\n ('Profit', 'string')]"
     ]
    }
   ],
   "source": [
    "df.dtypes"
   ]
  },
  {
   "cell_type": "code",
   "execution_count": 0,
   "metadata": {
    "application/vnd.databricks.v1+cell": {
     "cellMetadata": {
      "byteLimit": 2048000,
      "rowLimit": 10000
     },
     "inputWidgets": {},
     "nuid": "bec34b52-f96a-4a83-bef1-9033d90f78a7",
     "showTitle": false,
     "title": ""
    }
   },
   "outputs": [],
   "source": [
    "df = df.withColumn(\"R&D Spend\", df['R&D Spend'].cast(\"float\"))\n",
    "df = df.withColumn(\"Administration\", df['Administration'].cast(\"float\"))\n",
    "df = df.withColumn(\"Marketing Spend\", df['Marketing Spend'].cast(\"float\"))\n",
    "df = df.withColumn(\"Profit\", df['Profit'].cast(\"float\"))"
   ]
  },
  {
   "cell_type": "code",
   "execution_count": 0,
   "metadata": {
    "application/vnd.databricks.v1+cell": {
     "cellMetadata": {
      "byteLimit": 2048000,
      "rowLimit": 10000
     },
     "inputWidgets": {},
     "nuid": "c53f76b0-e0f9-4071-9b46-d5638d04940d",
     "showTitle": false,
     "title": ""
    }
   },
   "outputs": [
    {
     "output_type": "stream",
     "name": "stdout",
     "output_type": "stream",
     "text": [
      "+---------+--------------+---------------+----------+---------+\n|R&D Spend|Administration|Marketing Spend|     State|   Profit|\n+---------+--------------+---------------+----------+---------+\n| 165349.2|      136897.8|       471784.1|  New York|192261.83|\n| 162597.7|      151377.6|      443898.53|California|191792.06|\n|153441.52|     101145.55|      407934.53|   Florida|191050.39|\n| 144372.4|     118671.85|      383199.62|  New York|182901.98|\n|142107.34|      91391.77|       366168.4|   Florida|166187.94|\n| 131876.9|      99814.71|      362861.38|  New York|156991.12|\n|134615.45|     147198.88|      127716.82|California|156122.52|\n|130298.13|     145530.06|       323876.7|   Florida| 155752.6|\n|120542.52|     148718.95|      311613.28|  New York|152211.77|\n|123334.88|     108679.17|      304981.62|California|149759.95|\n|101913.08|     110594.11|      229160.95|   Florida|146121.95|\n|100671.96|      91790.61|      249744.55|California| 144259.4|\n| 93863.75|     127320.38|      249839.44|   Florida|141585.52|\n| 91992.39|     135495.06|      252664.94|California|134307.34|\n|119943.24|     156547.42|      256512.92|   Florida|132602.66|\n|114523.61|     122616.84|      261776.23|  New York|129917.04|\n| 78013.11|     121597.55|      264346.06|California|126992.93|\n| 94657.16|     145077.58|       282574.3|  New York|125370.37|\n| 91749.16|     114175.79|      294919.56|   Florida| 124266.9|\n|  86419.7|     153514.11|            0.0|  New York|122776.86|\n+---------+--------------+---------------+----------+---------+\nonly showing top 20 rows\n\n"
     ]
    }
   ],
   "source": [
    "df.show()"
   ]
  },
  {
   "cell_type": "code",
   "execution_count": 0,
   "metadata": {
    "application/vnd.databricks.v1+cell": {
     "cellMetadata": {
      "byteLimit": 2048000,
      "rowLimit": 10000
     },
     "inputWidgets": {},
     "nuid": "49803b49-89ab-407e-b757-4bb9348815a9",
     "showTitle": false,
     "title": ""
    }
   },
   "outputs": [],
   "source": [
    "from pyspark.ml.feature import VectorAssembler, StringIndexer"
   ]
  },
  {
   "cell_type": "code",
   "execution_count": 0,
   "metadata": {
    "application/vnd.databricks.v1+cell": {
     "cellMetadata": {
      "byteLimit": 2048000,
      "rowLimit": 10000
     },
     "inputWidgets": {},
     "nuid": "3291c4ed-7a42-45ca-a5c2-17816c3e3059",
     "showTitle": false,
     "title": ""
    }
   },
   "outputs": [
    {
     "output_type": "stream",
     "name": "stdout",
     "output_type": "stream",
     "text": [
      "+---------+--------------+---------------+----------+---------+-----------+------------+-------+-------------+\n|R&D Spend|Administration|Marketing Spend|     State|   Profit|State_index|State_indexs|State_i|State_indexes|\n+---------+--------------+---------------+----------+---------+-----------+------------+-------+-------------+\n| 165349.2|      136897.8|       471784.1|  New York|192261.83|        1.0|         1.0|    1.0|          1.0|\n| 162597.7|      151377.6|      443898.53|California|191792.06|        0.0|         0.0|    0.0|          0.0|\n|153441.52|     101145.55|      407934.53|   Florida|191050.39|        2.0|         2.0|    2.0|          2.0|\n| 144372.4|     118671.85|      383199.62|  New York|182901.98|        1.0|         1.0|    1.0|          1.0|\n|142107.34|      91391.77|       366168.4|   Florida|166187.94|        2.0|         2.0|    2.0|          2.0|\n| 131876.9|      99814.71|      362861.38|  New York|156991.12|        1.0|         1.0|    1.0|          1.0|\n|134615.45|     147198.88|      127716.82|California|156122.52|        0.0|         0.0|    0.0|          0.0|\n|130298.13|     145530.06|       323876.7|   Florida| 155752.6|        2.0|         2.0|    2.0|          2.0|\n|120542.52|     148718.95|      311613.28|  New York|152211.77|        1.0|         1.0|    1.0|          1.0|\n|123334.88|     108679.17|      304981.62|California|149759.95|        0.0|         0.0|    0.0|          0.0|\n|101913.08|     110594.11|      229160.95|   Florida|146121.95|        2.0|         2.0|    2.0|          2.0|\n|100671.96|      91790.61|      249744.55|California| 144259.4|        0.0|         0.0|    0.0|          0.0|\n| 93863.75|     127320.38|      249839.44|   Florida|141585.52|        2.0|         2.0|    2.0|          2.0|\n| 91992.39|     135495.06|      252664.94|California|134307.34|        0.0|         0.0|    0.0|          0.0|\n|119943.24|     156547.42|      256512.92|   Florida|132602.66|        2.0|         2.0|    2.0|          2.0|\n|114523.61|     122616.84|      261776.23|  New York|129917.04|        1.0|         1.0|    1.0|          1.0|\n| 78013.11|     121597.55|      264346.06|California|126992.93|        0.0|         0.0|    0.0|          0.0|\n| 94657.16|     145077.58|       282574.3|  New York|125370.37|        1.0|         1.0|    1.0|          1.0|\n| 91749.16|     114175.79|      294919.56|   Florida| 124266.9|        2.0|         2.0|    2.0|          2.0|\n|  86419.7|     153514.11|            0.0|  New York|122776.86|        1.0|         1.0|    1.0|          1.0|\n+---------+--------------+---------------+----------+---------+-----------+------------+-------+-------------+\nonly showing top 20 rows\n\n"
     ]
    }
   ],
   "source": [
    "stringIndexer = StringIndexer(inputCol=\"State\",outputCol=\"State_indexes\")\n",
    "df = stringIndexer.fit(df).transform(df)\n",
    "df.show()"
   ]
  },
  {
   "cell_type": "code",
   "execution_count": 0,
   "metadata": {
    "application/vnd.databricks.v1+cell": {
     "cellMetadata": {
      "byteLimit": 2048000,
      "rowLimit": 10000
     },
     "inputWidgets": {},
     "nuid": "e1c84eb7-e991-47e1-8e73-b72f11f30d93",
     "showTitle": false,
     "title": ""
    }
   },
   "outputs": [],
   "source": [
    "df = df.drop('State_indexs','State_i','State_indexes')"
   ]
  },
  {
   "cell_type": "code",
   "execution_count": 0,
   "metadata": {
    "application/vnd.databricks.v1+cell": {
     "cellMetadata": {
      "byteLimit": 2048000,
      "rowLimit": 10000
     },
     "inputWidgets": {},
     "nuid": "333cb1e0-0deb-4a98-addf-1688e59d3d47",
     "showTitle": false,
     "title": ""
    }
   },
   "outputs": [],
   "source": [
    "from pyspark.ml.feature import VectorAssembler\n",
    "vectorassembler = VectorAssembler(inputCols=[\"R&D Spend\", \"Administration\", \"Marketing Spend\", \"Profit\", \"State_index\"],outputCol=\"Independent Value\")\n",
    "df = vectorassembler.transform(df)"
   ]
  },
  {
   "cell_type": "code",
   "execution_count": 0,
   "metadata": {
    "application/vnd.databricks.v1+cell": {
     "cellMetadata": {
      "byteLimit": 2048000,
      "rowLimit": 10000
     },
     "inputWidgets": {},
     "nuid": "072e4619-d163-4f02-95b0-2f53a03f02cb",
     "showTitle": false,
     "title": ""
    }
   },
   "outputs": [
    {
     "output_type": "stream",
     "name": "stdout",
     "output_type": "stream",
     "text": [
      "+--------------------+---------+\n|   Independent Value|   Profit|\n+--------------------+---------+\n|[165349.203125,13...|192261.83|\n|[162597.703125,15...|191792.06|\n|[153441.515625,10...|191050.39|\n|[144372.40625,118...|182901.98|\n|[142107.34375,913...|166187.94|\n|[131876.90625,998...|156991.12|\n|[134615.453125,14...|156122.52|\n|[130298.1328125,1...| 155752.6|\n|[120542.5234375,1...|152211.77|\n|[123334.8828125,1...|149759.95|\n|[101913.078125,11...|146121.95|\n|[100671.9609375,9...| 144259.4|\n|[93863.75,127320....|141585.52|\n|[91992.390625,135...|134307.34|\n|[119943.2421875,1...|132602.66|\n|[114523.609375,12...|129917.04|\n|[78013.109375,121...|126992.93|\n|[94657.15625,1450...|125370.37|\n|[91749.15625,1141...| 124266.9|\n|[86419.703125,153...|122776.86|\n+--------------------+---------+\nonly showing top 20 rows\n\n"
     ]
    }
   ],
   "source": [
    "Linear_df = df.select('Independent Value', 'Profit')\n",
    "Linear_df.show()"
   ]
  },
  {
   "cell_type": "code",
   "execution_count": 0,
   "metadata": {
    "application/vnd.databricks.v1+cell": {
     "cellMetadata": {
      "byteLimit": 2048000,
      "rowLimit": 10000
     },
     "inputWidgets": {},
     "nuid": "4eb41021-2310-4509-8bac-411048e78498",
     "showTitle": false,
     "title": ""
    }
   },
   "outputs": [],
   "source": [
    "from pyspark.ml.regression import LinearRegression\n",
    "train_data,test_data = Linear_df.randomSplit([0.8,0.2])\n",
    "regressor = LinearRegression(featuresCol = 'Independent Value',labelCol = 'Profit')\n",
    "regressor = regressor.fit(train_data)"
   ]
  },
  {
   "cell_type": "code",
   "execution_count": 0,
   "metadata": {
    "application/vnd.databricks.v1+cell": {
     "cellMetadata": {
      "byteLimit": 2048000,
      "rowLimit": 10000
     },
     "inputWidgets": {},
     "nuid": "407ddbd0-6405-4cc7-9a4d-e438374b08b2",
     "showTitle": false,
     "title": ""
    }
   },
   "outputs": [
    {
     "output_type": "stream",
     "name": "stdout",
     "output_type": "stream",
     "text": [
      "Out[73]: DenseVector([-0.0, 0.0, 0.0, 1.0, 0.0])"
     ]
    }
   ],
   "source": [
    "regressor.coefficients"
   ]
  },
  {
   "cell_type": "code",
   "execution_count": 0,
   "metadata": {
    "application/vnd.databricks.v1+cell": {
     "cellMetadata": {
      "byteLimit": 2048000,
      "rowLimit": 10000
     },
     "inputWidgets": {},
     "nuid": "104cdd0a-085c-43af-a07c-566a67598d5e",
     "showTitle": false,
     "title": ""
    }
   },
   "outputs": [
    {
     "output_type": "stream",
     "name": "stdout",
     "output_type": "stream",
     "text": [
      "Out[74]: -1.3580478423148815e-09"
     ]
    }
   ],
   "source": [
    "regressor.intercept"
   ]
  },
  {
   "cell_type": "code",
   "execution_count": 0,
   "metadata": {
    "application/vnd.databricks.v1+cell": {
     "cellMetadata": {
      "byteLimit": 2048000,
      "rowLimit": 10000
     },
     "inputWidgets": {},
     "nuid": "73f1efa4-9080-466f-afac-569236c1c11e",
     "showTitle": false,
     "title": ""
    }
   },
   "outputs": [],
   "source": [
    "pred_resut = regressor.evaluate(test_data)"
   ]
  },
  {
   "cell_type": "code",
   "execution_count": 0,
   "metadata": {
    "application/vnd.databricks.v1+cell": {
     "cellMetadata": {
      "byteLimit": 2048000,
      "rowLimit": 10000
     },
     "inputWidgets": {},
     "nuid": "31c64d5d-47e7-48ba-9fb7-757547ac85c2",
     "showTitle": false,
     "title": ""
    }
   },
   "outputs": [
    {
     "output_type": "stream",
     "name": "stdout",
     "output_type": "stream",
     "text": [
      "+--------------------+---------+------------------+\n|   Independent Value|   Profit|        prediction|\n+--------------------+---------+------------------+\n|(5,[1,3],[135426....| 42559.73| 42559.73046874977|\n|[0.0,116983.79687...|  14681.4|14681.400390624265|\n|[542.049987792968...| 35673.41|35673.410156249374|\n|[1315.4599609375,...| 49490.75| 49490.74999999985|\n|[23640.9296875,96...| 71498.49| 71498.49218749984|\n|[46014.01953125,8...| 96479.51| 96479.50781249994|\n|[61136.37890625,1...| 97483.56| 97483.56249999997|\n|[61994.48046875,1...| 99937.59| 99937.59374999988|\n|[64664.7109375,13...|107404.34|107404.34375000003|\n|[67532.53125,1057...|108733.99|108733.99218749994|\n|[73994.5625,12278...|110352.25|110352.24999999994|\n|[78389.46875,1537...|111313.02|    111313.0234375|\n|[100671.9609375,9...| 144259.4|      144259.40625|\n|[120542.5234375,1...|152211.77|152211.76562500012|\n|[123334.8828125,1...|149759.95|149759.95312499988|\n|[153441.515625,10...|191050.39| 191050.3906250002|\n|[162597.703125,15...|191792.06|191792.06250000023|\n+--------------------+---------+------------------+\n\n"
     ]
    }
   ],
   "source": [
    "pred_resut.predictions.show()"
   ]
  },
  {
   "cell_type": "code",
   "execution_count": 0,
   "metadata": {
    "application/vnd.databricks.v1+cell": {
     "cellMetadata": {
      "byteLimit": 2048000,
      "rowLimit": 10000
     },
     "inputWidgets": {},
     "nuid": "dcf0d718-f199-401e-8cf5-62acddb41b0d",
     "showTitle": false,
     "title": ""
    }
   },
   "outputs": [
    {
     "output_type": "stream",
     "name": "stdout",
     "output_type": "stream",
     "text": [
      "Out[80]: (1.0, 6.95874935270022e-20, 2.637944152687888e-10)"
     ]
    }
   ],
   "source": [
    "pred_resut.r2,pred_resut.meanSquaredError,pred_resut.rootMeanSquaredError"
   ]
  }
 ],
 "metadata": {
  "application/vnd.databricks.v1+notebook": {
   "dashboards": [],
   "language": "python",
   "notebookMetadata": {
    "pythonIndentUnit": 4
   },
   "notebookName": "MultiLinear Regression using Spark",
   "widgets": {}
  }
 },
 "nbformat": 4,
 "nbformat_minor": 0
}
